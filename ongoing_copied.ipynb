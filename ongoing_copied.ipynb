{
 "cells": [
  {
   "cell_type": "code",
   "execution_count": 1,
   "metadata": {},
   "outputs": [],
   "source": [
    "!sudo mount -o discard,defaults /dev/sdb /mnt/disks/mount_point"
   ]
  },
  {
   "cell_type": "code",
   "execution_count": 2,
   "metadata": {},
   "outputs": [],
   "source": [
    "!sudo chmod a+w /mnt/disks/mount_point/"
   ]
  },
  {
   "cell_type": "code",
   "execution_count": 6,
   "metadata": {},
   "outputs": [
    {
     "name": "stdout",
     "output_type": "stream",
     "text": [
      "Collecting albumentations\n",
      "  Downloading https://files.pythonhosted.org/packages/fb/36/2b95494205a81d791ec891d5d538cd645b5f6ce22f64ffd20a7412fe02e1/albumentations-0.3.3.tar.gz (89kB)\n",
      "\u001b[K    100% |████████████████████████████████| 92kB 2.9MB/s ta 0:00:011\n",
      "\u001b[?25hRequirement already satisfied: numpy>=1.11.1 in /usr/local/lib/python3.5/site-packages (from albumentations)\n",
      "Requirement already satisfied: scipy in /usr/local/lib/python3.5/site-packages (from albumentations)\n",
      "Collecting imgaug<0.2.7,>=0.2.5 (from albumentations)\n",
      "  Downloading https://files.pythonhosted.org/packages/ad/2e/748dbb7bb52ec8667098bae9b585f448569ae520031932687761165419a2/imgaug-0.2.6.tar.gz (631kB)\n",
      "\u001b[K    100% |████████████████████████████████| 634kB 2.1MB/s eta 0:00:01\n",
      "\u001b[?25hRequirement already satisfied: PyYAML in /usr/local/lib/python3.5/dist-packages (from albumentations)\n",
      "Requirement already satisfied: opencv-python>=4.1.1 in /usr/local/lib/python3.5/dist-packages (from albumentations)\n",
      "Requirement already satisfied: icc-rt in /usr/local/lib/python3.5/dist-packages (from numpy>=1.11.1->albumentations)\n",
      "Requirement already satisfied: mkl-fft in /usr/local/lib/python3.5/dist-packages (from numpy>=1.11.1->albumentations)\n",
      "Requirement already satisfied: mkl-random in /usr/local/lib/python3.5/dist-packages (from numpy>=1.11.1->albumentations)\n",
      "Requirement already satisfied: mkl in /usr/local/lib/python3.5/dist-packages (from numpy>=1.11.1->albumentations)\n",
      "Requirement already satisfied: tbb4py in /usr/local/lib/python3.5/dist-packages (from numpy>=1.11.1->albumentations)\n",
      "Requirement already satisfied: intel-numpy in /usr/local/lib/python3.5/dist-packages (from scipy->albumentations)\n",
      "Requirement already satisfied: scikit-image>=0.11.0 in /usr/local/lib/python3.5/dist-packages (from imgaug<0.2.7,>=0.2.5->albumentations)\n",
      "Requirement already satisfied: six in /usr/local/lib/python3.5/dist-packages (from imgaug<0.2.7,>=0.2.5->albumentations)\n",
      "Requirement already satisfied: intel-openmp in /usr/local/lib/python3.5/dist-packages (from icc-rt->numpy>=1.11.1->albumentations)\n",
      "Requirement already satisfied: tbb==2019.* in /usr/local/lib/python3.5/dist-packages (from tbb4py->numpy>=1.11.1->albumentations)\n",
      "Collecting pillow>=4.3.0 (from scikit-image>=0.11.0->imgaug<0.2.7,>=0.2.5->albumentations)\n",
      "  Downloading https://files.pythonhosted.org/packages/a8/34/086feba718f629fc51f27f993fa72e210c1c25077cba2f9e9a2dcfa23a7f/Pillow-6.2.0-cp35-cp35m-manylinux1_x86_64.whl (2.1MB)\n",
      "\u001b[K    100% |████████████████████████████████| 2.1MB 657kB/s eta 0:00:01\n",
      "\u001b[?25hRequirement already satisfied: matplotlib!=3.0.0,>=2.0.0 in /usr/local/lib/python3.5/dist-packages (from scikit-image>=0.11.0->imgaug<0.2.7,>=0.2.5->albumentations)\n",
      "Requirement already satisfied: imageio>=2.0.1 in /usr/local/lib/python3.5/dist-packages (from scikit-image>=0.11.0->imgaug<0.2.7,>=0.2.5->albumentations)\n",
      "Requirement already satisfied: PyWavelets>=0.4.0 in /usr/local/lib/python3.5/dist-packages (from scikit-image>=0.11.0->imgaug<0.2.7,>=0.2.5->albumentations)\n",
      "Requirement already satisfied: networkx>=2.0 in /usr/local/lib/python3.5/dist-packages (from scikit-image>=0.11.0->imgaug<0.2.7,>=0.2.5->albumentations)\n",
      "Requirement already satisfied: cycler>=0.10 in /usr/local/lib/python3.5/dist-packages (from matplotlib!=3.0.0,>=2.0.0->scikit-image>=0.11.0->imgaug<0.2.7,>=0.2.5->albumentations)\n",
      "Requirement already satisfied: pyparsing!=2.0.4,!=2.1.2,!=2.1.6,>=2.0.1 in /usr/local/lib/python3.5/dist-packages (from matplotlib!=3.0.0,>=2.0.0->scikit-image>=0.11.0->imgaug<0.2.7,>=0.2.5->albumentations)\n",
      "Requirement already satisfied: kiwisolver>=1.0.1 in /usr/local/lib/python3.5/dist-packages (from matplotlib!=3.0.0,>=2.0.0->scikit-image>=0.11.0->imgaug<0.2.7,>=0.2.5->albumentations)\n",
      "Requirement already satisfied: python-dateutil>=2.1 in /usr/local/lib/python3.5/dist-packages (from matplotlib!=3.0.0,>=2.0.0->scikit-image>=0.11.0->imgaug<0.2.7,>=0.2.5->albumentations)\n",
      "Requirement already satisfied: decorator>=4.3.0 in /usr/local/lib/python3.5/dist-packages (from networkx>=2.0->scikit-image>=0.11.0->imgaug<0.2.7,>=0.2.5->albumentations)\n",
      "Requirement already satisfied: setuptools in /usr/local/lib/python3.5/dist-packages (from kiwisolver>=1.0.1->matplotlib!=3.0.0,>=2.0.0->scikit-image>=0.11.0->imgaug<0.2.7,>=0.2.5->albumentations)\n",
      "Building wheels for collected packages: albumentations, imgaug\n",
      "  Running setup.py bdist_wheel for albumentations ... \u001b[?25ldone\n",
      "\u001b[?25h  Stored in directory: /home/jupyter/.cache/pip/wheels/ec/67/12/fe5e79caf7aa6bbdca1506fc66bfd61fc4eae5abb5397b9c08\n",
      "  Running setup.py bdist_wheel for imgaug ... \u001b[?25ldone\n",
      "\u001b[?25h  Stored in directory: /home/jupyter/.cache/pip/wheels/97/ec/48/0d25896c417b715af6236dbcef8f0bed136a1a5e52972fc6d0\n",
      "Successfully built albumentations imgaug\n",
      "Installing collected packages: imgaug, albumentations, pillow\n",
      "Successfully installed albumentations-0.3.3 imgaug-0.2.6 pillow-6.2.0\n"
     ]
    }
   ],
   "source": [
    "!pip3 install albumentations"
   ]
  },
  {
   "cell_type": "code",
   "execution_count": 7,
   "metadata": {},
   "outputs": [
    {
     "name": "stdout",
     "output_type": "stream",
     "text": [
      "Collecting efficientnet-pytorch\n",
      "  Downloading https://files.pythonhosted.org/packages/12/f8/35453605c6c471fc406a137a894fb381b05ae9f174b2ca4956592512374e/efficientnet_pytorch-0.4.0.tar.gz\n",
      "Requirement already satisfied: torch in /opt/anaconda3/lib/python3.7/site-packages (from efficientnet-pytorch) (1.2.0)\n",
      "Requirement already satisfied: numpy in /opt/anaconda3/lib/python3.7/site-packages (from torch->efficientnet-pytorch) (1.17.2)\n",
      "Building wheels for collected packages: efficientnet-pytorch\n",
      "  Building wheel for efficientnet-pytorch (setup.py) ... \u001b[?25ldone\n",
      "\u001b[?25h  Stored in directory: /home/jupyter/.cache/pip/wheels/27/56/13/5bdaa98ca8bd7d5da65cc741987dd14391b87fa1a09081d17a\n",
      "Successfully built efficientnet-pytorch\n",
      "Installing collected packages: efficientnet-pytorch\n",
      "Successfully installed efficientnet-pytorch-0.4.0\n"
     ]
    }
   ],
   "source": [
    "!pip install efficientnet-pytorch"
   ]
  },
  {
   "cell_type": "code",
   "execution_count": 3,
   "metadata": {},
   "outputs": [],
   "source": [
    "import os\n",
    "import sys\n",
    "\n",
    "sys.path.append('/home/jupyter/.local/lib/python3.5/site-packages')"
   ]
  },
  {
   "cell_type": "code",
   "execution_count": 4,
   "metadata": {},
   "outputs": [
    {
     "name": "stderr",
     "output_type": "stream",
     "text": [
      "/opt/anaconda3/lib/python3.7/site-packages/tqdm/autonotebook/__init__.py:18: TqdmExperimentalWarning: Using `tqdm.autonotebook.tqdm` in notebook mode. Use `tqdm.tqdm` instead to force console mode (e.g. in jupyter console)\n",
      "  \" (e.g. in jupyter console)\", TqdmExperimentalWarning)\n"
     ]
    }
   ],
   "source": [
    "from __future__ import print_function, with_statement, division\n",
    "import copy\n",
    "import os\n",
    "import torch\n",
    "from tqdm.autonotebook import tqdm\n",
    "from torch.optim.lr_scheduler import _LRScheduler\n",
    "import matplotlib.pyplot as plt\n",
    "\n",
    "\n",
    "class LRFinder(object):\n",
    "    \"\"\"Learning rate range test.\n",
    "    The learning rate range test increases the learning rate in a pre-training run\n",
    "    between two boundaries in a linear or exponential manner. It provides valuable\n",
    "    information on how well the network can be trained over a range of learning rates\n",
    "    and what is the optimal learning rate.\n",
    "    Arguments:\n",
    "        model (torch.nn.Module): wrapped model.\n",
    "        optimizer (torch.optim.Optimizer): wrapped optimizer where the defined learning\n",
    "            is assumed to be the lower boundary of the range test.\n",
    "        criterion (torch.nn.Module): wrapped loss function.\n",
    "        device (str or torch.device, optional): a string (\"cpu\" or \"cuda\") with an\n",
    "            optional ordinal for the device type (e.g. \"cuda:X\", where is the ordinal).\n",
    "            Alternatively, can be an object representing the device on which the\n",
    "            computation will take place. Default: None, uses the same device as `model`.\n",
    "        memory_cache (boolean): if this flag is set to True, `state_dict` of model and\n",
    "            optimizer will be cached in memory. Otherwise, they will be saved to files\n",
    "            under the `cache_dir`.\n",
    "        cache_dir (string): path for storing temporary files. If no path is specified,\n",
    "            system-wide temporary directory is used.\n",
    "            Notice that this parameter will be ignored if `memory_cache` is True.\n",
    "    Example:\n",
    "        >>> lr_finder = LRFinder(net, optimizer, criterion, device=\"cuda\")\n",
    "        >>> lr_finder.range_test(dataloader, end_lr=100, num_iter=100)\n",
    "    Cyclical Learning Rates for Training Neural Networks: https://arxiv.org/abs/1506.01186\n",
    "    fastai/lr_find: https://github.com/fastai/fastai\n",
    "    \"\"\"\n",
    "\n",
    "    def __init__(self, model, optimizer, criterion, device=None, memory_cache=True, cache_dir=None):\n",
    "        self.model = model\n",
    "        self.optimizer = optimizer\n",
    "        self.criterion = criterion\n",
    "        self.history = {\"lr\": [], \"loss\": []}\n",
    "        self.best_loss = None\n",
    "        self.memory_cache = memory_cache\n",
    "        self.cache_dir = cache_dir\n",
    "\n",
    "        # Save the original state of the model and optimizer so they can be restored if\n",
    "        # needed\n",
    "        self.model_device = next(self.model.parameters()).device\n",
    "        self.state_cacher = StateCacher(memory_cache, cache_dir=cache_dir)\n",
    "        self.state_cacher.store('model', self.model.state_dict())\n",
    "        self.state_cacher.store('optimizer', self.optimizer.state_dict())\n",
    "\n",
    "        # If device is None, use the same as the model\n",
    "        if device:\n",
    "            self.device = device\n",
    "        else:\n",
    "            self.device = self.model_device\n",
    "\n",
    "    def reset(self):\n",
    "        \"\"\"Restores the model and optimizer to their initial states.\"\"\"\n",
    "        self.model.load_state_dict(self.state_cacher.retrieve('model'))\n",
    "        self.optimizer.load_state_dict(self.state_cacher.retrieve('optimizer'))\n",
    "        self.model.to(self.model_device)\n",
    "\n",
    "    def range_test(\n",
    "        self,\n",
    "        train_loader,\n",
    "        val_loader=None,\n",
    "        end_lr=10,\n",
    "        num_iter=100,\n",
    "        step_mode=\"exp\",\n",
    "        smooth_f=0.05,\n",
    "        diverge_th=5,\n",
    "    ):\n",
    "        \"\"\"Performs the learning rate range test.\n",
    "        Arguments:\n",
    "            train_loader (torch.utils.data.DataLoader): the training set data laoder.\n",
    "            val_loader (torch.utils.data.DataLoader, optional): if `None` the range test\n",
    "                will only use the training loss. When given a data loader, the model is\n",
    "                evaluated after each iteration on that dataset and the evaluation loss\n",
    "                is used. Note that in this mode the test takes significantly longer but\n",
    "                generally produces more precise results. Default: None.\n",
    "            end_lr (float, optional): the maximum learning rate to test. Default: 10.\n",
    "            num_iter (int, optional): the number of iterations over which the test\n",
    "                occurs. Default: 100.\n",
    "            step_mode (str, optional): one of the available learning rate policies,\n",
    "                linear or exponential (\"linear\", \"exp\"). Default: \"exp\".\n",
    "            smooth_f (float, optional): the loss smoothing factor within the [0, 1[\n",
    "                interval. Disabled if set to 0, otherwise the loss is smoothed using\n",
    "                exponential smoothing. Default: 0.05.\n",
    "            diverge_th (int, optional): the test is stopped when the loss surpasses the\n",
    "                threshold:  diverge_th * best_loss. Default: 5.\n",
    "        \"\"\"\n",
    "        # Reset test results\n",
    "        self.history = {\"lr\": [], \"loss\": []}\n",
    "        self.best_loss = None\n",
    "\n",
    "        # Move the model to the proper device\n",
    "        self.model.to(self.device)\n",
    "\n",
    "        # Initialize the proper learning rate policy\n",
    "        if step_mode.lower() == \"exp\":\n",
    "            lr_schedule = ExponentialLR(self.optimizer, end_lr, num_iter)\n",
    "        elif step_mode.lower() == \"linear\":\n",
    "            lr_schedule = LinearLR(self.optimizer, end_lr, num_iter)\n",
    "        else:\n",
    "            raise ValueError(\"expected one of (exp, linear), got {}\".format(step_mode))\n",
    "\n",
    "        if smooth_f < 0 or smooth_f >= 1:\n",
    "            raise ValueError(\"smooth_f is outside the range [0, 1[\")\n",
    "\n",
    "        # Create an iterator to get data batch by batch\n",
    "        iterator = iter(train_loader)\n",
    "        for iteration in tqdm(range(num_iter)):\n",
    "            # Get a new set of inputs and labels\n",
    "            try:\n",
    "                inputs, labels = next(iterator)\n",
    "            except StopIteration:\n",
    "                iterator = iter(train_loader)\n",
    "                inputs, labels = next(iterator)\n",
    "\n",
    "            # Train on batch and retrieve loss\n",
    "            loss = self._train_batch(inputs, labels)\n",
    "            if val_loader:\n",
    "                loss = self._validate(val_loader)\n",
    "\n",
    "            # Update the learning rate\n",
    "            lr_schedule.step()\n",
    "            self.history[\"lr\"].append(lr_schedule.get_lr()[0])\n",
    "\n",
    "            # Track the best loss and smooth it if smooth_f is specified\n",
    "            if iteration == 0:\n",
    "                self.best_loss = loss\n",
    "            else:\n",
    "                if smooth_f > 0:\n",
    "                    loss = smooth_f * loss + (1 - smooth_f) * self.history[\"loss\"][-1]\n",
    "                if loss < self.best_loss:\n",
    "                    self.best_loss = loss\n",
    "\n",
    "            # Check if the loss has diverged; if it has, stop the test\n",
    "            self.history[\"loss\"].append(loss)\n",
    "            if loss > diverge_th * self.best_loss:\n",
    "                print(\"Stopping early, the loss has diverged\")\n",
    "                break\n",
    "\n",
    "        print(\"Learning rate search finished. See the graph with {finder_name}.plot()\")\n",
    "\n",
    "    def _train_batch(self, inputs, labels):\n",
    "        # Set model to training mode\n",
    "        self.model.train()\n",
    "\n",
    "        # Move data to the correct device\n",
    "        inputs = inputs.to(self.device, dtype=torch.float)\n",
    "        labels = labels.to(self.device, dtype=torch.float)\n",
    "\n",
    "        # Forward pass\n",
    "        self.optimizer.zero_grad()\n",
    "        outputs = self.model(inputs)\n",
    "        loss = self.criterion(outputs, labels)\n",
    "\n",
    "        # Backward pass\n",
    "        loss.backward()\n",
    "        self.optimizer.step()\n",
    "\n",
    "        return loss.item()\n",
    "\n",
    "    def _validate(self, dataloader):\n",
    "        # Set model to evaluation mode and disable gradient computation\n",
    "        running_loss = 0\n",
    "        self.model.eval()\n",
    "        with torch.no_grad():\n",
    "            for inputs, labels in dataloader:\n",
    "                # Move data to the correct device\n",
    "                inputs = inputs.to(self.device)\n",
    "                labels = labels.to(self.device)\n",
    "\n",
    "                # Forward pass and loss computation\n",
    "                outputs = self.model(inputs)\n",
    "                loss = self.criterion(outputs, labels)\n",
    "                running_loss += loss.item() * inputs.size(0)\n",
    "\n",
    "        return running_loss / len(dataloader.dataset)\n",
    "\n",
    "    def plot(self, skip_start=10, skip_end=5, log_lr=True):\n",
    "        \"\"\"Plots the learning rate range test.\n",
    "        Arguments:\n",
    "            skip_start (int, optional): number of batches to trim from the start.\n",
    "                Default: 10.\n",
    "            skip_end (int, optional): number of batches to trim from the start.\n",
    "                Default: 5.\n",
    "            log_lr (bool, optional): True to plot the learning rate in a logarithmic\n",
    "                scale; otherwise, plotted in a linear scale. Default: True.\n",
    "        \"\"\"\n",
    "\n",
    "        if skip_start < 0:\n",
    "            raise ValueError(\"skip_start cannot be negative\")\n",
    "        if skip_end < 0:\n",
    "            raise ValueError(\"skip_end cannot be negative\")\n",
    "\n",
    "        # Get the data to plot from the history dictionary. Also, handle skip_end=0\n",
    "        # properly so the behaviour is the expected\n",
    "        lrs = self.history[\"lr\"]\n",
    "        losses = self.history[\"loss\"]\n",
    "        if skip_end == 0:\n",
    "            lrs = lrs[skip_start:]\n",
    "            losses = losses[skip_start:]\n",
    "        else:\n",
    "            lrs = lrs[skip_start:-skip_end]\n",
    "            losses = losses[skip_start:-skip_end]\n",
    "\n",
    "        # Plot loss as a function of the learning rate\n",
    "        plt.plot(lrs, losses)\n",
    "        if log_lr:\n",
    "            plt.xscale(\"log\")\n",
    "        plt.xlabel(\"Learning rate\")\n",
    "        plt.ylabel(\"Loss\")\n",
    "        plt.show()\n",
    "\n",
    "\n",
    "class LinearLR(_LRScheduler):\n",
    "    \"\"\"Linearly increases the learning rate between two boundaries over a number of\n",
    "    iterations.\n",
    "    Arguments:\n",
    "        optimizer (torch.optim.Optimizer): wrapped optimizer.\n",
    "        end_lr (float, optional): the initial learning rate which is the lower\n",
    "            boundary of the test. Default: 10.\n",
    "        num_iter (int, optional): the number of iterations over which the test\n",
    "            occurs. Default: 100.\n",
    "        last_epoch (int): the index of last epoch. Default: -1.\n",
    "    \"\"\"\n",
    "\n",
    "    def __init__(self, optimizer, end_lr, num_iter, last_epoch=-1):\n",
    "        self.end_lr = end_lr\n",
    "        self.num_iter = num_iter\n",
    "        super(LinearLR, self).__init__(optimizer, last_epoch)\n",
    "\n",
    "    def get_lr(self):\n",
    "        curr_iter = self.last_epoch + 1\n",
    "        r = curr_iter / self.num_iter\n",
    "        return [base_lr + r * (self.end_lr - base_lr) for base_lr in self.base_lrs]\n",
    "\n",
    "\n",
    "class ExponentialLR(_LRScheduler):\n",
    "    \"\"\"Exponentially increases the learning rate between two boundaries over a number of\n",
    "    iterations.\n",
    "    Arguments:\n",
    "        optimizer (torch.optim.Optimizer): wrapped optimizer.\n",
    "        end_lr (float, optional): the initial learning rate which is the lower\n",
    "            boundary of the test. Default: 10.\n",
    "        num_iter (int, optional): the number of iterations over which the test\n",
    "            occurs. Default: 100.\n",
    "        last_epoch (int): the index of last epoch. Default: -1.\n",
    "    \"\"\"\n",
    "\n",
    "    def __init__(self, optimizer, end_lr, num_iter, last_epoch=-1):\n",
    "        self.end_lr = end_lr\n",
    "        self.num_iter = num_iter\n",
    "        super(ExponentialLR, self).__init__(optimizer, last_epoch)\n",
    "\n",
    "    def get_lr(self):\n",
    "        curr_iter = self.last_epoch + 1\n",
    "        r = curr_iter / self.num_iter\n",
    "        return [base_lr * (self.end_lr / base_lr) ** r for base_lr in self.base_lrs]\n",
    "\n",
    "\n",
    "class StateCacher(object):\n",
    "    def __init__(self, in_memory, cache_dir=None):\n",
    "        self.in_memory = in_memory\n",
    "        self.cache_dir = cache_dir\n",
    "\n",
    "        if self.cache_dir is None:\n",
    "            import tempfile\n",
    "            self.cache_dir = tempfile.gettempdir()\n",
    "        else:\n",
    "            if not os.path.isdir(self.cache_dir):\n",
    "                raise ValueError('Given `cache_dir` is not a valid directory.')\n",
    "\n",
    "        self.cached = {}\n",
    "\n",
    "    def store(self, key, state_dict):\n",
    "        if self.in_memory:\n",
    "            self.cached.update({key: copy.deepcopy(state_dict)})\n",
    "        else:\n",
    "            fn = os.path.join(self.cache_dir, 'state_{}_{}.pt'.format(key, id(self)))\n",
    "            self.cached.update({key: fn})\n",
    "            torch.save(state_dict, fn)\n",
    "\n",
    "    def retrieve(self, key):\n",
    "        if key not in self.cached:\n",
    "            raise KeyError('Target {} was not cached.'.format(key))\n",
    "\n",
    "        if self.in_memory:\n",
    "            return self.cached.get(key)\n",
    "        else:\n",
    "            fn = self.cached.get(key)\n",
    "            if not os.path.exists(fn):\n",
    "                raise RuntimeError('Failed to load state in {}. File does not exist anymore.'.format(fn))\n",
    "            state_dict = torch.load(fn, map_location=lambda storage, location: storage)\n",
    "            return state_dict\n",
    "\n",
    "    def __del__(self):\n",
    "        \"\"\"Check whether there are unused cached files existing in `cache_dir` before\n",
    "        this instance being destroyed.\"\"\"\n",
    "        if self.in_memory:\n",
    "            return\n",
    "\n",
    "        for k in self.cached:\n",
    "            if os.path.exists(self.cached[k]):\n",
    "                os.remove(self.cached[k])"
   ]
  },
  {
   "cell_type": "code",
   "execution_count": 4,
   "metadata": {},
   "outputs": [],
   "source": [
    "dir_csv = '/mnt/disks/mount_point'\n",
    "dir_train_img = '/mnt/disks/mount_point/stage_1_train_images_jpg'\n",
    "dir_test_img = '/mnt/disks/mount_point/stage_1_test_images_jpg'\n",
    "\n",
    "n_classes = 6\n",
    "n_epochs = 1\n",
    "batch_size = 9\n",
    "\n",
    "\n",
    "import os\n",
    "import cv2\n",
    "import glob\n",
    "#import pydicom\n",
    "import numpy as np\n",
    "import pandas as pd\n",
    "from efficientnet_pytorch import EfficientNet\n",
    "import torch\n",
    "import torch.optim as optim\n",
    "from albumentations import Compose, ShiftScaleRotate, Resize, CenterCrop, ToFloat\n",
    "from albumentations.pytorch import ToTensor\n",
    "from torch.utils.data import Dataset\n",
    "from tqdm import tqdm_notebook as tqdm\n",
    "#from torch_lr_finder import LRFinder\n",
    "from sklearn.model_selection import train_test_split"
   ]
  },
  {
   "cell_type": "code",
   "execution_count": 5,
   "metadata": {},
   "outputs": [],
   "source": [
    "class IntracranialDataset(Dataset):\n",
    "\n",
    "    def __init__(self, csv_file, path, labels, transform=None):\n",
    "\n",
    "        self.path = path\n",
    "        self.data = pd.read_csv(csv_file)\n",
    "        self.transform = transform\n",
    "        self.labels = labels\n",
    "\n",
    "    def __len__(self):\n",
    "\n",
    "        return len(self.data)\n",
    "\n",
    "    def __getitem__(self, idx):\n",
    "        img_name = os.path.join(self.path, self.data.loc[idx, 'Image'] + '.jpg')\n",
    "        img = cv2.imread(img_name)\n",
    "\n",
    "        if self.transform:\n",
    "\n",
    "            augmented = self.transform(image=img)\n",
    "            img = augmented['image']\n",
    "\n",
    "        if self.labels:\n",
    "\n",
    "            labels = torch.tensor(\n",
    "                self.data.loc[idx, ['epidural', 'intraparenchymal', 'intraventricular', 'subarachnoid', 'subdural', 'any']])\n",
    "            #return {'image': img, 'labels': labels}\n",
    "            return (img, labels)\n",
    "\n",
    "        else:\n",
    "\n",
    "            #return {'image': img}\n",
    "            return img"
   ]
  },
  {
   "cell_type": "code",
   "execution_count": 6,
   "metadata": {},
   "outputs": [],
   "source": [
    "transform_train = Compose([\n",
    "    Resize(456, 456),\n",
    "    ToFloat(max_value=127, always_apply=True),\n",
    "    ShiftScaleRotate(),\n",
    "    ToTensor()\n",
    "])\n",
    "\n",
    "transform_valid = Compose([\n",
    "    Resize(456, 456),\n",
    "    ToFloat(max_value=127, always_apply=True),\n",
    "    ToTensor()\n",
    "])\n",
    "\n",
    "transform_test= Compose([\n",
    "    Resize(456, 456),\n",
    "    ToFloat(max_value=127, always_apply=True),\n",
    "    ToTensor()\n",
    "])\n",
    "\n",
    "train_dataset = IntracranialDataset(\n",
    "    csv_file='/mnt/disks/mount_point/train.csv', path='/mnt/disks/mount_point/stage_1_train_images_jpg', transform=transform_train, labels=True)\n",
    "\n",
    "valid_dataset = IntracranialDataset(\n",
    "    csv_file='/mnt/disks/mount_point/valid.csv', path='/mnt/disks/mount_point/stage_1_train_images_jpg', transform=transform_valid, labels=True)\n",
    "\n",
    "test_dataset = IntracranialDataset(\n",
    "    csv_file='/mnt/disks/mount_point/test.csv', path='/mnt/disks/mount_point/stage_1_test_images_jpg', transform=transform_test, labels=False)\n",
    "\n",
    "data_loader_train = torch.utils.data.DataLoader(train_dataset, batch_size=batch_size, shuffle=True, num_workers=4)\n",
    "data_loader_valid = torch.utils.data.DataLoader(valid_dataset, batch_size=batch_size, shuffle=False, num_workers=4)\n",
    "data_loader_test = torch.utils.data.DataLoader(test_dataset, batch_size=batch_size, shuffle=False, num_workers=4)"
   ]
  },
  {
   "cell_type": "code",
   "execution_count": 7,
   "metadata": {},
   "outputs": [
    {
     "name": "stdout",
     "output_type": "stream",
     "text": [
      "Loaded pretrained weights for efficientnet-b5\n"
     ]
    }
   ],
   "source": [
    "device = torch.device(\"cuda:0\")\n",
    "model = EfficientNet.from_pretrained('efficientnet-b5') "
   ]
  },
  {
   "cell_type": "code",
   "execution_count": 8,
   "metadata": {},
   "outputs": [],
   "source": [
    "model._fc = torch.nn.Linear(2048, n_classes)"
   ]
  },
  {
   "cell_type": "code",
   "execution_count": 9,
   "metadata": {},
   "outputs": [],
   "source": [
    "model.to(device)\n",
    "criterion = torch.nn.BCEWithLogitsLoss()\n",
    "plist = [{'params': model.parameters(), 'lr': 5e-2}]\n",
    "optimizer = optim.Adam(plist, lr=5e-2)"
   ]
  },
  {
   "cell_type": "code",
   "execution_count": 10,
   "metadata": {},
   "outputs": [],
   "source": [
    "import time\n",
    "import os\n",
    "#i = 0\n",
    "#train_csv_file = pd.read_csv(f'/mnt/disks/mount_point/train_splitted/train{i}.csv')"
   ]
  },
  {
   "cell_type": "code",
   "execution_count": 12,
   "metadata": {},
   "outputs": [],
   "source": [
    "def training_model(i):\n",
    "    \n",
    "    train_dataset = IntracranialDataset(\n",
    "        csv_file=f'/mnt/disks/mount_point/train_splitted/train{i}.csv', path='/mnt/disks/mount_point/stage_1_train_images_jpg', transform=transform_train, labels=True)\n",
    "    print(f'/mnt/disks/mount_point/train_splitted/train{i}.csv')\n",
    "    data_loader_train = torch.utils.data.DataLoader(train_dataset, batch_size=batch_size, shuffle=True, num_workers=4)\n",
    "    since = time.time()\n",
    "    \n",
    "    #checkpoint = torch.load('/mnt/disks/mount_point/train{i-1}.pth')\n",
    "    #model.load_state_dict(checkpoint['model_state_dict'])\n",
    "    \n",
    "    for epoch in range(n_epochs):\n",
    "        print('Epoch {}/{}'.format(epoch, n_epochs - 1))\n",
    "        print('-' * 10)\n",
    "\n",
    "        # Each epoch has a training and validation phase\n",
    "        for phase in ['train', 'val']:\n",
    "            if phase == 'train':\n",
    "                model.train()  # Set model to training mode\n",
    "            else:\n",
    "                model.eval()   # Set model to evaluate mode\n",
    "\n",
    "            running_loss = 0.0\n",
    "            running_corrects = 0\n",
    "\n",
    "            # Iterate over data.\n",
    "            if phase == 'train':\n",
    "                dataloader = data_loader_train\n",
    "            else:\n",
    "                dataloader = data_loader_valid\n",
    "            for inputs, labels in dataloader:\n",
    "                inputs = inputs.to(device, dtype=torch.float)\n",
    "                labels = labels.to(device, dtype=torch.float)\n",
    "\n",
    "                # zero the parameter gradients\n",
    "                optimizer.zero_grad()\n",
    "\n",
    "                # forward\n",
    "                # track history if only in train\n",
    "                with torch.set_grad_enabled(phase == 'train'):\n",
    "                    outputs = model(inputs)\n",
    "                    #_, preds = torch.max(outputs, 1)\n",
    "                    loss = criterion(outputs, labels)\n",
    "\n",
    "                    # backward + optimize only if in training phase\n",
    "                    if phase == 'train':\n",
    "                        loss.backward()\n",
    "                        optimizer.step()\n",
    "\n",
    "                # statistics\n",
    "                running_loss += loss.item() * inputs.size(0)\n",
    "                #running_corrects += torch.sum(preds == labels.data)\n",
    "\n",
    "            if phase == 'train':\n",
    "                dataset_size = len(train_dataset)\n",
    "            else:\n",
    "                dataset_size = len(valid_dataset)\n",
    "            epoch_loss = running_loss / dataset_size\n",
    "            #epoch_acc = running_corrects.double() / dataset_size\n",
    "\n",
    "            #print('{} Loss: {:.4f} Acc: {:.4f}'.format(\n",
    "             #   phase, epoch_loss, epoch_acc))\n",
    "            print(f'Loss: {epock_loss}')\n",
    "\n",
    "            # deep copy the model\n",
    "            #if phase == 'val' :\n",
    "             #   val_acc = epoch_acc\n",
    "              #  print(f'val_acc: {val_acc}')\n",
    "                \n",
    "\n",
    "        print()\n",
    "\n",
    "    time_elapsed = time.time() - since\n",
    "    print('Training complete in {:.0f}m {:.0f}s'.format(\n",
    "        time_elapsed // 60, time_elapsed % 60))\n",
    "\n",
    "    torch.save(model.state_dict(), f'/mnt/disks/mount_point/train{i}.pth')\n",
    "    return\n",
    "    \n"
   ]
  },
  {
   "cell_type": "code",
   "execution_count": 3,
   "metadata": {},
   "outputs": [
    {
     "name": "stdout",
     "output_type": "stream",
     "text": [
      "example.pth                        stage_1_train.csv.zip\n",
      "\u001b[0m\u001b[01;34mlost+found\u001b[0m/                        \u001b[01;34mstage_1_train_images_jpg\u001b[0m/\n",
      "process_csv.py                     stderr.txt\n",
      "rsna_resnext.py                    stdout.txt\n",
      "sample.txt                         test.csv\n",
      "stage_1_sample_submission.csv      train.csv\n",
      "stage_1_sample_submission.csv.zip  \u001b[01;34mtrain_splitted\u001b[0m/\n",
      "\u001b[01;34mstage_1_test_images_jpg\u001b[0m/           trial.py\n",
      "stage_1_train.csv                  valid.csv\n"
     ]
    }
   ],
   "source": [
    "ls /mnt/disks/mount_point/"
   ]
  },
  {
   "cell_type": "code",
   "execution_count": 20,
   "metadata": {},
   "outputs": [
    {
     "name": "stdout",
     "output_type": "stream",
     "text": [
      "/mnt/disks/mount_point/train_splitted/train0.csv\n",
      "Epoch 0/0\n",
      "----------\n"
     ]
    }
   ],
   "source": [
    "!cat /mnt/disks/mount_point/stdout.txt"
   ]
  },
  {
   "cell_type": "code",
   "execution_count": 21,
   "metadata": {},
   "outputs": [],
   "source": [
    "!cat /mnt/disks/mount_point/stderr.txt"
   ]
  },
  {
   "cell_type": "code",
   "execution_count": 29,
   "metadata": {},
   "outputs": [],
   "source": [
    "import sys\n",
    "f1 = open('/mnt/disks/mount_point/stdout2.txt', mode='w')\n",
    "f2 = open('/mnt/disks/mount_point/stderr2.txt', mode='w')\n",
    "f3 = open('/mnt/disks/mount_point/richout.txt', mode='w')"
   ]
  },
  {
   "cell_type": "code",
   "execution_count": 14,
   "metadata": {},
   "outputs": [],
   "source": [
    "from IPython.utils import io"
   ]
  },
  {
   "cell_type": "code",
   "execution_count": null,
   "metadata": {},
   "outputs": [],
   "source": [
    "try:\n",
    "    with io.capture_output() as captured:\n",
    "        #for i in range(1):\n",
    "         #   training_model(i)\n",
    "        training_wrap()\n",
    "finally:\n",
    "    #os.system('sudo poweroff')\n",
    "    with open('stdout3.txt', mode='w') as f:\n",
    "        f.write(captured.stdout)\n",
    "    with open('stderr3.txt', mode='w') as f:\n",
    "        f.write(captured.stderr)\n",
    "    with open('richout3.txt', mode='w') as f:\n",
    "        f.write(str(out))\n",
    "    os.system('sudo poweroff')"
   ]
  },
  {
   "cell_type": "code",
   "execution_count": 13,
   "metadata": {},
   "outputs": [
    {
     "name": "stdout",
     "output_type": "stream",
     "text": [
      "/mnt/disks/mount_point/train_splitted/train0.csv\n",
      "Epoch 0/0\n",
      "----------\n"
     ]
    },
    {
     "ename": "KeyboardInterrupt",
     "evalue": "",
     "output_type": "error",
     "traceback": [
      "\u001b[0;31m---------------------------------------------------------------------------\u001b[0m",
      "\u001b[0;31mKeyboardInterrupt\u001b[0m                         Traceback (most recent call last)",
      "\u001b[0;32m<ipython-input-13-b90eb5fd7054>\u001b[0m in \u001b[0;36m<module>\u001b[0;34m\u001b[0m\n\u001b[1;32m      1\u001b[0m \u001b[0;32mfor\u001b[0m \u001b[0mi\u001b[0m \u001b[0;32min\u001b[0m \u001b[0mrange\u001b[0m\u001b[0;34m(\u001b[0m\u001b[0;36m1\u001b[0m\u001b[0;34m)\u001b[0m\u001b[0;34m:\u001b[0m\u001b[0;34m\u001b[0m\u001b[0;34m\u001b[0m\u001b[0m\n\u001b[0;32m----> 2\u001b[0;31m     \u001b[0mtraining_model\u001b[0m\u001b[0;34m(\u001b[0m\u001b[0mi\u001b[0m\u001b[0;34m)\u001b[0m\u001b[0;34m\u001b[0m\u001b[0;34m\u001b[0m\u001b[0m\n\u001b[0m",
      "\u001b[0;32m<ipython-input-12-d54153ea14a4>\u001b[0m in \u001b[0;36mtraining_model\u001b[0;34m(i)\u001b[0m\n\u001b[1;32m     46\u001b[0m                     \u001b[0;32mif\u001b[0m \u001b[0mphase\u001b[0m \u001b[0;34m==\u001b[0m \u001b[0;34m'train'\u001b[0m\u001b[0;34m:\u001b[0m\u001b[0;34m\u001b[0m\u001b[0;34m\u001b[0m\u001b[0m\n\u001b[1;32m     47\u001b[0m                         \u001b[0mloss\u001b[0m\u001b[0;34m.\u001b[0m\u001b[0mbackward\u001b[0m\u001b[0;34m(\u001b[0m\u001b[0;34m)\u001b[0m\u001b[0;34m\u001b[0m\u001b[0;34m\u001b[0m\u001b[0m\n\u001b[0;32m---> 48\u001b[0;31m                         \u001b[0moptimizer\u001b[0m\u001b[0;34m.\u001b[0m\u001b[0mstep\u001b[0m\u001b[0;34m(\u001b[0m\u001b[0;34m)\u001b[0m\u001b[0;34m\u001b[0m\u001b[0;34m\u001b[0m\u001b[0m\n\u001b[0m\u001b[1;32m     49\u001b[0m \u001b[0;34m\u001b[0m\u001b[0m\n\u001b[1;32m     50\u001b[0m                 \u001b[0;31m# statistics\u001b[0m\u001b[0;34m\u001b[0m\u001b[0;34m\u001b[0m\u001b[0;34m\u001b[0m\u001b[0m\n",
      "\u001b[0;32m/opt/anaconda3/lib/python3.7/site-packages/torch/optim/adam.py\u001b[0m in \u001b[0;36mstep\u001b[0;34m(self, closure)\u001b[0m\n\u001b[1;32m    105\u001b[0m                 \u001b[0mstep_size\u001b[0m \u001b[0;34m=\u001b[0m \u001b[0mgroup\u001b[0m\u001b[0;34m[\u001b[0m\u001b[0;34m'lr'\u001b[0m\u001b[0;34m]\u001b[0m \u001b[0;34m*\u001b[0m \u001b[0mmath\u001b[0m\u001b[0;34m.\u001b[0m\u001b[0msqrt\u001b[0m\u001b[0;34m(\u001b[0m\u001b[0mbias_correction2\u001b[0m\u001b[0;34m)\u001b[0m \u001b[0;34m/\u001b[0m \u001b[0mbias_correction1\u001b[0m\u001b[0;34m\u001b[0m\u001b[0;34m\u001b[0m\u001b[0m\n\u001b[1;32m    106\u001b[0m \u001b[0;34m\u001b[0m\u001b[0m\n\u001b[0;32m--> 107\u001b[0;31m                 \u001b[0mp\u001b[0m\u001b[0;34m.\u001b[0m\u001b[0mdata\u001b[0m\u001b[0;34m.\u001b[0m\u001b[0maddcdiv_\u001b[0m\u001b[0;34m(\u001b[0m\u001b[0;34m-\u001b[0m\u001b[0mstep_size\u001b[0m\u001b[0;34m,\u001b[0m \u001b[0mexp_avg\u001b[0m\u001b[0;34m,\u001b[0m \u001b[0mdenom\u001b[0m\u001b[0;34m)\u001b[0m\u001b[0;34m\u001b[0m\u001b[0;34m\u001b[0m\u001b[0m\n\u001b[0m\u001b[1;32m    108\u001b[0m \u001b[0;34m\u001b[0m\u001b[0m\n\u001b[1;32m    109\u001b[0m         \u001b[0;32mreturn\u001b[0m \u001b[0mloss\u001b[0m\u001b[0;34m\u001b[0m\u001b[0;34m\u001b[0m\u001b[0m\n",
      "\u001b[0;31mKeyboardInterrupt\u001b[0m: "
     ]
    }
   ],
   "source": [
    "for i in range(1):\n",
    "    training_model(i)"
   ]
  },
  {
   "cell_type": "code",
   "execution_count": 18,
   "metadata": {},
   "outputs": [
    {
     "ename": "NameError",
     "evalue": "name 'preds' is not defined",
     "output_type": "error",
     "traceback": [
      "\u001b[0;31m---------------------------------------------------------------------------\u001b[0m",
      "\u001b[0;31mNameError\u001b[0m                                 Traceback (most recent call last)",
      "\u001b[0;32m<ipython-input-18-275b74839b8c>\u001b[0m in \u001b[0;36m<module>\u001b[0;34m\u001b[0m\n\u001b[1;32m      1\u001b[0m \u001b[0;32mwith\u001b[0m \u001b[0mio\u001b[0m\u001b[0;34m.\u001b[0m\u001b[0mcapture_output\u001b[0m\u001b[0;34m(\u001b[0m\u001b[0;34m)\u001b[0m \u001b[0;32mas\u001b[0m \u001b[0mcaptured\u001b[0m\u001b[0;34m:\u001b[0m\u001b[0;34m\u001b[0m\u001b[0;34m\u001b[0m\u001b[0m\n\u001b[1;32m      2\u001b[0m     \u001b[0;32mfor\u001b[0m \u001b[0mi\u001b[0m \u001b[0;32min\u001b[0m \u001b[0mrange\u001b[0m\u001b[0;34m(\u001b[0m\u001b[0;36m1\u001b[0m\u001b[0;34m)\u001b[0m\u001b[0;34m:\u001b[0m\u001b[0;34m\u001b[0m\u001b[0;34m\u001b[0m\u001b[0m\n\u001b[0;32m----> 3\u001b[0;31m         \u001b[0mtraining_model\u001b[0m\u001b[0;34m(\u001b[0m\u001b[0mi\u001b[0m\u001b[0;34m)\u001b[0m\u001b[0;34m\u001b[0m\u001b[0;34m\u001b[0m\u001b[0m\n\u001b[0m\u001b[1;32m      4\u001b[0m     \u001b[0;32mwith\u001b[0m \u001b[0mopen\u001b[0m\u001b[0;34m(\u001b[0m\u001b[0;34m'/mnt/disks/mount_point/stdout.txt'\u001b[0m\u001b[0;34m,\u001b[0m \u001b[0mmode\u001b[0m\u001b[0;34m=\u001b[0m\u001b[0;34m'w'\u001b[0m\u001b[0;34m)\u001b[0m \u001b[0;32mas\u001b[0m \u001b[0mf\u001b[0m\u001b[0;34m:\u001b[0m\u001b[0;34m\u001b[0m\u001b[0;34m\u001b[0m\u001b[0m\n\u001b[1;32m      5\u001b[0m         \u001b[0mf\u001b[0m\u001b[0;34m.\u001b[0m\u001b[0mwrite\u001b[0m\u001b[0;34m(\u001b[0m\u001b[0mcaptured\u001b[0m\u001b[0;34m.\u001b[0m\u001b[0mstdout\u001b[0m\u001b[0;34m)\u001b[0m\u001b[0;34m\u001b[0m\u001b[0;34m\u001b[0m\u001b[0m\n",
      "\u001b[0;32m<ipython-input-11-899fce43df4e>\u001b[0m in \u001b[0;36mtraining_model\u001b[0;34m(i)\u001b[0m\n\u001b[1;32m     50\u001b[0m                 \u001b[0;31m# statistics\u001b[0m\u001b[0;34m\u001b[0m\u001b[0;34m\u001b[0m\u001b[0;34m\u001b[0m\u001b[0m\n\u001b[1;32m     51\u001b[0m                 \u001b[0mrunning_loss\u001b[0m \u001b[0;34m+=\u001b[0m \u001b[0mloss\u001b[0m\u001b[0;34m.\u001b[0m\u001b[0mitem\u001b[0m\u001b[0;34m(\u001b[0m\u001b[0;34m)\u001b[0m \u001b[0;34m*\u001b[0m \u001b[0minputs\u001b[0m\u001b[0;34m.\u001b[0m\u001b[0msize\u001b[0m\u001b[0;34m(\u001b[0m\u001b[0;36m0\u001b[0m\u001b[0;34m)\u001b[0m\u001b[0;34m\u001b[0m\u001b[0;34m\u001b[0m\u001b[0m\n\u001b[0;32m---> 52\u001b[0;31m                 \u001b[0mrunning_corrects\u001b[0m \u001b[0;34m+=\u001b[0m \u001b[0mtorch\u001b[0m\u001b[0;34m.\u001b[0m\u001b[0msum\u001b[0m\u001b[0;34m(\u001b[0m\u001b[0mpreds\u001b[0m \u001b[0;34m==\u001b[0m \u001b[0mlabels\u001b[0m\u001b[0;34m.\u001b[0m\u001b[0mdata\u001b[0m\u001b[0;34m)\u001b[0m\u001b[0;34m\u001b[0m\u001b[0;34m\u001b[0m\u001b[0m\n\u001b[0m\u001b[1;32m     53\u001b[0m \u001b[0;34m\u001b[0m\u001b[0m\n\u001b[1;32m     54\u001b[0m             \u001b[0;32mif\u001b[0m \u001b[0mphase\u001b[0m \u001b[0;34m==\u001b[0m \u001b[0;34m'train'\u001b[0m\u001b[0;34m:\u001b[0m\u001b[0;34m\u001b[0m\u001b[0;34m\u001b[0m\u001b[0m\n",
      "\u001b[0;31mNameError\u001b[0m: name 'preds' is not defined"
     ]
    }
   ],
   "source": [
    "with io.capture_output() as captured:\n",
    "    for i in range(1):\n",
    "        training_model(i)\n",
    "    with open('/mnt/disks/mount_point/stdout.txt', mode='w') as f:\n",
    "        f.write(captured.stdout)\n",
    "    with open('/mnt/disks/mount_point/stderr.txt', mode='w') as f:\n",
    "        f.write(captured.stderr)\n",
    "    with open('/mnt/disks/mount_point/richout.txt', mode='w') as f:\n",
    "        f.write(captured.output)"
   ]
  },
  {
   "cell_type": "code",
   "execution_count": 8,
   "metadata": {},
   "outputs": [
    {
     "name": "stdout",
     "output_type": "stream",
     "text": [
      "example.pth      sometext.txt                       test.csv\n",
      "ipython_log.py   stage_1_sample_submission.csv      train.csv\n",
      "\u001b[0m\u001b[01;34mlost+found\u001b[0m/      stage_1_sample_submission.csv.zip  \u001b[01;34mtrain_splitted\u001b[0m/\n",
      "ongoing.ipynb    \u001b[01;34mstage_1_test_images_jpg\u001b[0m/           trial.py\n",
      "process_csv.py   stage_1_train.csv                  Untitled.ipynb\n",
      "rsna.ipynb       stage_1_train.csv.zip              Untitled.py\n",
      "rsna.py          \u001b[01;34mstage_1_train_images_jpg\u001b[0m/          valid.csv\n",
      "rsna_resnext.py  stderr.txt\n",
      "sample.txt       stdout.txt\n"
     ]
    }
   ],
   "source": [
    "ls /mnt/disks/mount_point/"
   ]
  },
  {
   "cell_type": "code",
   "execution_count": 31,
   "metadata": {},
   "outputs": [
    {
     "name": "stdout",
     "output_type": "stream",
     "text": [
      "/mnt/disks/mount_point/train_splitted/train0.csv\n",
      "Epoch 0/0\n",
      "----------\n"
     ]
    }
   ],
   "source": [
    "!cat stdout.txt"
   ]
  },
  {
   "cell_type": "code",
   "execution_count": 34,
   "metadata": {},
   "outputs": [],
   "source": [
    "!cat richout.txt"
   ]
  },
  {
   "cell_type": "code",
   "execution_count": 15,
   "metadata": {},
   "outputs": [],
   "source": [
    "import ipywidgets as widgets"
   ]
  },
  {
   "cell_type": "code",
   "execution_count": 16,
   "metadata": {},
   "outputs": [],
   "source": [
    "out = widgets.Output(layout={'border': '1px solid black'})"
   ]
  },
  {
   "cell_type": "code",
   "execution_count": 38,
   "metadata": {},
   "outputs": [
    {
     "data": {
      "application/vnd.jupyter.widget-view+json": {
       "model_id": "40646617ceed4ccd81b84c6d92e0f2bb",
       "version_major": 2,
       "version_minor": 0
      },
      "text/plain": [
       "Output(layout=Layout(border='1px solid black'))"
      ]
     },
     "metadata": {},
     "output_type": "display_data"
    }
   ],
   "source": [
    "out"
   ]
  },
  {
   "cell_type": "code",
   "execution_count": 17,
   "metadata": {},
   "outputs": [],
   "source": [
    "@out.capture()\n",
    "def training_wrap():\n",
    "    for i in range(1):\n",
    "        training_model(i)\n",
    "        "
   ]
  },
  {
   "cell_type": "code",
   "execution_count": 40,
   "metadata": {},
   "outputs": [],
   "source": [
    "training_wrap()"
   ]
  },
  {
   "cell_type": "code",
   "execution_count": 71,
   "metadata": {},
   "outputs": [
    {
     "data": {
      "text/plain": [
       "\u001b[0;31mType:\u001b[0m           Output\n",
       "\u001b[0;31mString form:\u001b[0m    Output(layout=Layout(border='1px solid black'), outputs=({'name': 'stdout', 'text': '/mnt/disks/m <...> fined\"], 'ename': 'NameError', 'evalue': \"name 'preds' is not defined\", 'output_type': 'error'}))\n",
       "\u001b[0;31mFile:\u001b[0m           /opt/anaconda3/lib/python3.7/site-packages/ipywidgets/widgets/widget_output.py\n",
       "\u001b[0;31mDocstring:\u001b[0m     \n",
       "Widget used as a context manager to display output.\n",
       "\n",
       "This widget can capture and display stdout, stderr, and rich output.  To use\n",
       "it, create an instance of it and display it.\n",
       "\n",
       "You can then use the widget as a context manager: any output produced while in the\n",
       "context will be captured and displayed in the widget instead of the standard output\n",
       "area.\n",
       "\n",
       "You can also use the .capture() method to decorate a function or a method. Any output \n",
       "produced by the function will then go to the output widget. This is useful for\n",
       "debugging widget callbacks, for example.\n",
       "\n",
       "Example::\n",
       "    import ipywidgets as widgets\n",
       "    from IPython.display import display\n",
       "    out = widgets.Output()\n",
       "    display(out)\n",
       "\n",
       "    print('prints to output area')\n",
       "\n",
       "    with out:\n",
       "        print('prints to output widget')\n",
       "\n",
       "    @out.capture()\n",
       "    def func():\n",
       "        print('prints to output widget')\n",
       "\u001b[0;31mInit docstring:\u001b[0m Public constructor\n"
      ]
     },
     "metadata": {},
     "output_type": "display_data"
    }
   ],
   "source": [
    "?out"
   ]
  },
  {
   "cell_type": "code",
   "execution_count": 43,
   "metadata": {},
   "outputs": [],
   "source": [
    "with open('richout2.txt', mode='w') as f:\n",
    "    f.write(str(out))"
   ]
  },
  {
   "cell_type": "code",
   "execution_count": 44,
   "metadata": {},
   "outputs": [
    {
     "name": "stdout",
     "output_type": "stream",
     "text": [
      "Output(layout=Layout(border='1px solid black'), outputs=({'name': 'stdout', 'text': '/mnt/disks/mount_point/train_splitted/train0.csv\\nEpoch 0/0\\n----------\\n', 'output_type': 'stream'}, {'traceback': ['\\x1b[0;31m---------------------------------------------------------------------------\\x1b[0m', '\\x1b[0;31mNameError\\x1b[0m                                 Traceback (most recent call last)', '\\x1b[0;32m/opt/anaconda3/lib/python3.7/site-packages/ipywidgets/widgets/widget_output.py\\x1b[0m in \\x1b[0;36minner\\x1b[0;34m(*args, **kwargs)\\x1b[0m\\n\\x1b[1;32m    101\\x1b[0m                     \\x1b[0mself\\x1b[0m\\x1b[0;34m.\\x1b[0m\\x1b[0mclear_output\\x1b[0m\\x1b[0;34m(\\x1b[0m\\x1b[0;34m*\\x1b[0m\\x1b[0mclear_args\\x1b[0m\\x1b[0;34m,\\x1b[0m \\x1b[0;34m**\\x1b[0m\\x1b[0mclear_kwargs\\x1b[0m\\x1b[0;34m)\\x1b[0m\\x1b[0;34m\\x1b[0m\\x1b[0;34m\\x1b[0m\\x1b[0m\\n\\x1b[1;32m    102\\x1b[0m                 \\x1b[0;32mwith\\x1b[0m \\x1b[0mself\\x1b[0m\\x1b[0;34m:\\x1b[0m\\x1b[0;34m\\x1b[0m\\x1b[0;34m\\x1b[0m\\x1b[0m\\n\\x1b[0;32m--> 103\\x1b[0;31m                     \\x1b[0;32mreturn\\x1b[0m \\x1b[0mfunc\\x1b[0m\\x1b[0;34m(\\x1b[0m\\x1b[0;34m*\\x1b[0m\\x1b[0margs\\x1b[0m\\x1b[0;34m,\\x1b[0m \\x1b[0;34m**\\x1b[0m\\x1b[0mkwargs\\x1b[0m\\x1b[0;34m)\\x1b[0m\\x1b[0;34m\\x1b[0m\\x1b[0;34m\\x1b[0m\\x1b[0m\\n\\x1b[0m\\x1b[1;32m    104\\x1b[0m             \\x1b[0;32mreturn\\x1b[0m \\x1b[0minner\\x1b[0m\\x1b[0;34m\\x1b[0m\\x1b[0;34m\\x1b[0m\\x1b[0m\\n\\x1b[1;32m    105\\x1b[0m         \\x1b[0;32mreturn\\x1b[0m \\x1b[0mcapture_decorator\\x1b[0m\\x1b[0;34m\\x1b[0m\\x1b[0;34m\\x1b[0m\\x1b[0m\\n', '\\x1b[0;32m<ipython-input-39-56d9a0094b27>\\x1b[0m in \\x1b[0;36mtraining_wrap\\x1b[0;34m()\\x1b[0m\\n\\x1b[1;32m      2\\x1b[0m \\x1b[0;32mdef\\x1b[0m \\x1b[0mtraining_wrap\\x1b[0m\\x1b[0;34m(\\x1b[0m\\x1b[0;34m)\\x1b[0m\\x1b[0;34m:\\x1b[0m\\x1b[0;34m\\x1b[0m\\x1b[0;34m\\x1b[0m\\x1b[0m\\n\\x1b[1;32m      3\\x1b[0m     \\x1b[0;32mfor\\x1b[0m \\x1b[0mi\\x1b[0m \\x1b[0;32min\\x1b[0m \\x1b[0mrange\\x1b[0m\\x1b[0;34m(\\x1b[0m\\x1b[0;36m1\\x1b[0m\\x1b[0;34m)\\x1b[0m\\x1b[0;34m:\\x1b[0m\\x1b[0;34m\\x1b[0m\\x1b[0;34m\\x1b[0m\\x1b[0m\\n\\x1b[0;32m----> 4\\x1b[0;31m         \\x1b[0mtraining_model\\x1b[0m\\x1b[0;34m(\\x1b[0m\\x1b[0mi\\x1b[0m\\x1b[0;34m)\\x1b[0m\\x1b[0;34m\\x1b[0m\\x1b[0;34m\\x1b[0m\\x1b[0m\\n\\x1b[0m\\x1b[1;32m      5\\x1b[0m \\x1b[0;34m\\x1b[0m\\x1b[0m\\n', \"\\x1b[0;32m<ipython-input-11-899fce43df4e>\\x1b[0m in \\x1b[0;36mtraining_model\\x1b[0;34m(i)\\x1b[0m\\n\\x1b[1;32m     50\\x1b[0m                 \\x1b[0;31m# statistics\\x1b[0m\\x1b[0;34m\\x1b[0m\\x1b[0;34m\\x1b[0m\\x1b[0;34m\\x1b[0m\\x1b[0m\\n\\x1b[1;32m     51\\x1b[0m                 \\x1b[0mrunning_loss\\x1b[0m \\x1b[0;34m+=\\x1b[0m \\x1b[0mloss\\x1b[0m\\x1b[0;34m.\\x1b[0m\\x1b[0mitem\\x1b[0m\\x1b[0;34m(\\x1b[0m\\x1b[0;34m)\\x1b[0m \\x1b[0;34m*\\x1b[0m \\x1b[0minputs\\x1b[0m\\x1b[0;34m.\\x1b[0m\\x1b[0msize\\x1b[0m\\x1b[0;34m(\\x1b[0m\\x1b[0;36m0\\x1b[0m\\x1b[0;34m)\\x1b[0m\\x1b[0;34m\\x1b[0m\\x1b[0;34m\\x1b[0m\\x1b[0m\\n\\x1b[0;32m---> 52\\x1b[0;31m                 \\x1b[0mrunning_corrects\\x1b[0m \\x1b[0;34m+=\\x1b[0m \\x1b[0mtorch\\x1b[0m\\x1b[0;34m.\\x1b[0m\\x1b[0msum\\x1b[0m\\x1b[0;34m(\\x1b[0m\\x1b[0mpreds\\x1b[0m \\x1b[0;34m==\\x1b[0m \\x1b[0mlabels\\x1b[0m\\x1b[0;34m.\\x1b[0m\\x1b[0mdata\\x1b[0m\\x1b[0;34m)\\x1b[0m\\x1b[0;34m\\x1b[0m\\x1b[0;34m\\x1b[0m\\x1b[0m\\n\\x1b[0m\\x1b[1;32m     53\\x1b[0m \\x1b[0;34m\\x1b[0m\\x1b[0m\\n\\x1b[1;32m     54\\x1b[0m             \\x1b[0;32mif\\x1b[0m \\x1b[0mphase\\x1b[0m \\x1b[0;34m==\\x1b[0m \\x1b[0;34m'train'\\x1b[0m\\x1b[0;34m:\\x1b[0m\\x1b[0;34m\\x1b[0m\\x1b[0;34m\\x1b[0m\\x1b[0m\\n\", \"\\x1b[0;31mNameError\\x1b[0m: name 'preds' is not defined\"], 'ename': 'NameError', 'evalue': \"name 'preds' is not defined\", 'output_type': 'error'}))"
     ]
    }
   ],
   "source": [
    "!cat richout2.txt"
   ]
  },
  {
   "cell_type": "code",
   "execution_count": 46,
   "metadata": {},
   "outputs": [
    {
     "data": {
      "text/plain": [
       "'Output(layout=Layout(border=\\'1px solid black\\'), outputs=({\\'name\\': \\'stdout\\', \\'text\\': \\'/mnt/disks/mount_point/train_splitted/train0.csv\\\\nEpoch 0/0\\\\n----------\\\\n\\', \\'output_type\\': \\'stream\\'}, {\\'traceback\\': [\\'\\\\x1b[0;31m---------------------------------------------------------------------------\\\\x1b[0m\\', \\'\\\\x1b[0;31mNameError\\\\x1b[0m                                 Traceback (most recent call last)\\', \\'\\\\x1b[0;32m/opt/anaconda3/lib/python3.7/site-packages/ipywidgets/widgets/widget_output.py\\\\x1b[0m in \\\\x1b[0;36minner\\\\x1b[0;34m(*args, **kwargs)\\\\x1b[0m\\\\n\\\\x1b[1;32m    101\\\\x1b[0m                     \\\\x1b[0mself\\\\x1b[0m\\\\x1b[0;34m.\\\\x1b[0m\\\\x1b[0mclear_output\\\\x1b[0m\\\\x1b[0;34m(\\\\x1b[0m\\\\x1b[0;34m*\\\\x1b[0m\\\\x1b[0mclear_args\\\\x1b[0m\\\\x1b[0;34m,\\\\x1b[0m \\\\x1b[0;34m**\\\\x1b[0m\\\\x1b[0mclear_kwargs\\\\x1b[0m\\\\x1b[0;34m)\\\\x1b[0m\\\\x1b[0;34m\\\\x1b[0m\\\\x1b[0;34m\\\\x1b[0m\\\\x1b[0m\\\\n\\\\x1b[1;32m    102\\\\x1b[0m                 \\\\x1b[0;32mwith\\\\x1b[0m \\\\x1b[0mself\\\\x1b[0m\\\\x1b[0;34m:\\\\x1b[0m\\\\x1b[0;34m\\\\x1b[0m\\\\x1b[0;34m\\\\x1b[0m\\\\x1b[0m\\\\n\\\\x1b[0;32m--> 103\\\\x1b[0;31m                     \\\\x1b[0;32mreturn\\\\x1b[0m \\\\x1b[0mfunc\\\\x1b[0m\\\\x1b[0;34m(\\\\x1b[0m\\\\x1b[0;34m*\\\\x1b[0m\\\\x1b[0margs\\\\x1b[0m\\\\x1b[0;34m,\\\\x1b[0m \\\\x1b[0;34m**\\\\x1b[0m\\\\x1b[0mkwargs\\\\x1b[0m\\\\x1b[0;34m)\\\\x1b[0m\\\\x1b[0;34m\\\\x1b[0m\\\\x1b[0;34m\\\\x1b[0m\\\\x1b[0m\\\\n\\\\x1b[0m\\\\x1b[1;32m    104\\\\x1b[0m             \\\\x1b[0;32mreturn\\\\x1b[0m \\\\x1b[0minner\\\\x1b[0m\\\\x1b[0;34m\\\\x1b[0m\\\\x1b[0;34m\\\\x1b[0m\\\\x1b[0m\\\\n\\\\x1b[1;32m    105\\\\x1b[0m         \\\\x1b[0;32mreturn\\\\x1b[0m \\\\x1b[0mcapture_decorator\\\\x1b[0m\\\\x1b[0;34m\\\\x1b[0m\\\\x1b[0;34m\\\\x1b[0m\\\\x1b[0m\\\\n\\', \\'\\\\x1b[0;32m<ipython-input-39-56d9a0094b27>\\\\x1b[0m in \\\\x1b[0;36mtraining_wrap\\\\x1b[0;34m()\\\\x1b[0m\\\\n\\\\x1b[1;32m      2\\\\x1b[0m \\\\x1b[0;32mdef\\\\x1b[0m \\\\x1b[0mtraining_wrap\\\\x1b[0m\\\\x1b[0;34m(\\\\x1b[0m\\\\x1b[0;34m)\\\\x1b[0m\\\\x1b[0;34m:\\\\x1b[0m\\\\x1b[0;34m\\\\x1b[0m\\\\x1b[0;34m\\\\x1b[0m\\\\x1b[0m\\\\n\\\\x1b[1;32m      3\\\\x1b[0m     \\\\x1b[0;32mfor\\\\x1b[0m \\\\x1b[0mi\\\\x1b[0m \\\\x1b[0;32min\\\\x1b[0m \\\\x1b[0mrange\\\\x1b[0m\\\\x1b[0;34m(\\\\x1b[0m\\\\x1b[0;36m1\\\\x1b[0m\\\\x1b[0;34m)\\\\x1b[0m\\\\x1b[0;34m:\\\\x1b[0m\\\\x1b[0;34m\\\\x1b[0m\\\\x1b[0;34m\\\\x1b[0m\\\\x1b[0m\\\\n\\\\x1b[0;32m----> 4\\\\x1b[0;31m         \\\\x1b[0mtraining_model\\\\x1b[0m\\\\x1b[0;34m(\\\\x1b[0m\\\\x1b[0mi\\\\x1b[0m\\\\x1b[0;34m)\\\\x1b[0m\\\\x1b[0;34m\\\\x1b[0m\\\\x1b[0;34m\\\\x1b[0m\\\\x1b[0m\\\\n\\\\x1b[0m\\\\x1b[1;32m      5\\\\x1b[0m \\\\x1b[0;34m\\\\x1b[0m\\\\x1b[0m\\\\n\\', \"\\\\x1b[0;32m<ipython-input-11-899fce43df4e>\\\\x1b[0m in \\\\x1b[0;36mtraining_model\\\\x1b[0;34m(i)\\\\x1b[0m\\\\n\\\\x1b[1;32m     50\\\\x1b[0m                 \\\\x1b[0;31m# statistics\\\\x1b[0m\\\\x1b[0;34m\\\\x1b[0m\\\\x1b[0;34m\\\\x1b[0m\\\\x1b[0;34m\\\\x1b[0m\\\\x1b[0m\\\\n\\\\x1b[1;32m     51\\\\x1b[0m                 \\\\x1b[0mrunning_loss\\\\x1b[0m \\\\x1b[0;34m+=\\\\x1b[0m \\\\x1b[0mloss\\\\x1b[0m\\\\x1b[0;34m.\\\\x1b[0m\\\\x1b[0mitem\\\\x1b[0m\\\\x1b[0;34m(\\\\x1b[0m\\\\x1b[0;34m)\\\\x1b[0m \\\\x1b[0;34m*\\\\x1b[0m \\\\x1b[0minputs\\\\x1b[0m\\\\x1b[0;34m.\\\\x1b[0m\\\\x1b[0msize\\\\x1b[0m\\\\x1b[0;34m(\\\\x1b[0m\\\\x1b[0;36m0\\\\x1b[0m\\\\x1b[0;34m)\\\\x1b[0m\\\\x1b[0;34m\\\\x1b[0m\\\\x1b[0;34m\\\\x1b[0m\\\\x1b[0m\\\\n\\\\x1b[0;32m---> 52\\\\x1b[0;31m                 \\\\x1b[0mrunning_corrects\\\\x1b[0m \\\\x1b[0;34m+=\\\\x1b[0m \\\\x1b[0mtorch\\\\x1b[0m\\\\x1b[0;34m.\\\\x1b[0m\\\\x1b[0msum\\\\x1b[0m\\\\x1b[0;34m(\\\\x1b[0m\\\\x1b[0mpreds\\\\x1b[0m \\\\x1b[0;34m==\\\\x1b[0m \\\\x1b[0mlabels\\\\x1b[0m\\\\x1b[0;34m.\\\\x1b[0m\\\\x1b[0mdata\\\\x1b[0m\\\\x1b[0;34m)\\\\x1b[0m\\\\x1b[0;34m\\\\x1b[0m\\\\x1b[0;34m\\\\x1b[0m\\\\x1b[0m\\\\n\\\\x1b[0m\\\\x1b[1;32m     53\\\\x1b[0m \\\\x1b[0;34m\\\\x1b[0m\\\\x1b[0m\\\\n\\\\x1b[1;32m     54\\\\x1b[0m             \\\\x1b[0;32mif\\\\x1b[0m \\\\x1b[0mphase\\\\x1b[0m \\\\x1b[0;34m==\\\\x1b[0m \\\\x1b[0;34m\\'train\\'\\\\x1b[0m\\\\x1b[0;34m:\\\\x1b[0m\\\\x1b[0;34m\\\\x1b[0m\\\\x1b[0;34m\\\\x1b[0m\\\\x1b[0m\\\\n\", \"\\\\x1b[0;31mNameError\\\\x1b[0m: name \\'preds\\' is not defined\"], \\'ename\\': \\'NameError\\', \\'evalue\\': \"name \\'preds\\' is not defined\", \\'output_type\\': \\'error\\'}))'"
      ]
     },
     "metadata": {},
     "output_type": "display_data"
    }
   ],
   "source": [
    "with open('richout2.txt', mode='r') as f:\n",
    "    s = f.read()\n",
    "    display(s)\n",
    "    "
   ]
  },
  {
   "cell_type": "code",
   "execution_count": 66,
   "metadata": {},
   "outputs": [],
   "source": [
    "out2 = widgets.Output(layout={'border': '1px solid black'}, output=out.outputs)\n"
   ]
  },
  {
   "cell_type": "code",
   "execution_count": 67,
   "metadata": {},
   "outputs": [
    {
     "data": {
      "application/vnd.jupyter.widget-view+json": {
       "model_id": "8e6de2f6146141f78b9413b56e2b780f",
       "version_major": 2,
       "version_minor": 0
      },
      "text/plain": [
       "Output(layout=Layout(border='1px solid black'))"
      ]
     },
     "metadata": {},
     "output_type": "display_data"
    }
   ],
   "source": [
    "out2"
   ]
  },
  {
   "cell_type": "code",
   "execution_count": 4,
   "metadata": {},
   "outputs": [
    {
     "name": "stdout",
     "output_type": "stream",
     "text": [
      "example.pth      sometext.txt                       stdout.txt\n",
      "ipython_log.py   stage_1_sample_submission.csv      test.csv\n",
      "\u001b[0m\u001b[01;34mlost+found\u001b[0m/      stage_1_sample_submission.csv.zip  train.csv\n",
      "process_csv.py   \u001b[01;34mstage_1_test_images_jpg\u001b[0m/           \u001b[01;34mtrain_splitted\u001b[0m/\n",
      "rsna.ipynb       stage_1_train.csv                  trial.py\n",
      "rsna.py          stage_1_train.csv.zip              Untitled.ipynb\n",
      "rsna_resnext.py  \u001b[01;34mstage_1_train_images_jpg\u001b[0m/          Untitled.py\n",
      "sample.txt       stderr.txt                         valid.csv\n"
     ]
    }
   ],
   "source": [
    "ls /mnt/disks/mount_point/"
   ]
  },
  {
   "cell_type": "code",
   "execution_count": 5,
   "metadata": {},
   "outputs": [],
   "source": [
    "!cp /mnt/disks/mount_point/Untitled.py ."
   ]
  }
 ],
 "metadata": {
  "kernelspec": {
   "display_name": "Python 3",
   "language": "python",
   "name": "python3"
  },
  "language_info": {
   "codemirror_mode": {
    "name": "ipython",
    "version": 3
   },
   "file_extension": ".py",
   "mimetype": "text/x-python",
   "name": "python",
   "nbconvert_exporter": "python",
   "pygments_lexer": "ipython3",
   "version": "3.7.4"
  }
 },
 "nbformat": 4,
 "nbformat_minor": 4
}
